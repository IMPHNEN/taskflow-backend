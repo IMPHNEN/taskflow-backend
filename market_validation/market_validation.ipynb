{
 "cells": [
  {
   "cell_type": "code",
   "execution_count": null,
   "id": "47513d9d",
   "metadata": {},
   "outputs": [],
   "source": []
  },
  {
   "cell_type": "code",
   "execution_count": null,
   "id": "0c032000",
   "metadata": {},
   "outputs": [],
   "source": [
    "from agno.agent import Agent\n",
    "\n",
    "from agno.models.openai import OpenAIChat\n",
    "from agno.models.google import Gemini\n",
    "from agno.team import Team\n",
    "from agno.tools.firecrawl import FirecrawlTools\n",
    "import datetime\n",
    "from agno.tools.tavily import TavilyTools\n",
    "\n",
    "Model = OpenAIChat(\"gpt-4o-mini-2024-07-18\")\n",
    "\n",
    "# Market Researcher agent that uses Tavily to search and Firecrawl to scrape data\n",
    "market_researcher = Agent(\n",
    "    name=\"MarketResearcher\",\n",
    "    model=Model,\n",
    "    role=\"Searches and scrapes data on existing platforms, features, and pricing\",\n",
    "    instructions=[\n",
    "        \"Given a project description, first generate 3-5 search terms to find key competitors in this market.\",\n",
    "        \"Use Tavily to search for each term and identify the top competitors in the market space.\",\n",
    "        \"Then use Firecrawl to scrape data from competitor websites, focusing on features, pricing, and unique selling points.\",\n",
    "        \"Collect comprehensive data on at least 5 major competitors in the market space.\",\n",
    "        \"Focus on extracting specific information about features, pricing plans, and market positioning.\",\n",
    "        \"Organize the collected data in a structured format for analysis.\",\n",
    "    ],\n",
    "    #add crawl true if needed\n",
    "    tools=[TavilyTools(), FirecrawlTools(scrape=True)],\n",
    "    add_datetime_to_instructions=True,\n",
    ")\n",
    "# Market Analyzer agent that uses reasoning to analyze the collected data\n",
    "market_analyzer = Agent(\n",
    "    name=\"MarketAnalyzer\",\n",
    "    model=Model,\n",
    "    role=\"Analyzes market data and identifies trends, gaps, and opportunities\",\n",
    "    description=(\n",
    "        \"You are a market analysis expert. Given data on competitors, features, and pricing, \"\n",
    "        \"your goal is to analyze the market landscape and identify opportunities for the project.\"\n",
    "    ),\n",
    "    instructions=[\n",
    "        \"Analyze the data collected by the Market Researcher to identify market trends and patterns.\",\n",
    "        \"Compare features across different platforms to identify common offerings and unique differentiators.\",\n",
    "        \"Analyze pricing strategies to understand market positioning and value propositions.\",\n",
    "        \"Identify gaps in the market that could be potential opportunities for the project.\",\n",
    "        \"Evaluate the competitive landscape to determine market saturation and entry barriers.\",\n",
    "        \"Provide data-driven insights on market positioning and potential unique selling points.\",\n",
    "    ],\n",
    "    reasoning=True,  # Enable Agno's reasoning capabilities\n",
    "    add_datetime_to_instructions=True,\n",
    ")\n",
    "\n",
    "# Report Generator agent that creates a comprehensive market validation report\n",
    "report_generator = Agent(\n",
    "    name=\"ReportGenerator\",\n",
    "    model=Model,\n",
    "    role=\"Creates a comprehensive market validation report in Markdown format\",\n",
    "    description=(\n",
    "        \"You are a professional report writer. Given analyzed market data, \"\n",
    "        \"your goal is to create a comprehensive, well-structured market validation report.\"\n",
    "    ),\n",
    "    instructions=[\n",
    "        \"Create a professional market validation report in Markdown format.\",\n",
    "        \"Include an executive summary highlighting key findings and recommendations.\",\n",
    "        \"Provide detailed competitor analysis with feature comparisons and pricing plans.\",\n",
    "        \"Include a section on market gaps and opportunities identified during analysis.\",\n",
    "        \"Recommend unique selling points (USPs) for the project based on the market analysis.\",\n",
    "        \"Format the report with clear headings, tables, and bullet points for readability.\",\n",
    "        \"Ensure the report is comprehensive yet concise, focusing on actionable insights.\",\n",
    "    ],\n",
    "    add_datetime_to_instructions=True,\n",
    ")\n",
    "\n",
    "# Market Validation Team that coordinates the entire process\n",
    "market_validation_team = Team(\n",
    "    name=\"MarketValidationTeam\",\n",
    "    mode=\"coordinate\",\n",
    "    model=Model,  # Using GPT-4o-mini for coordination\n",
    "    members=[market_researcher, market_analyzer, report_generator],\n",
    "    description=\"You are a market validation team. Given a project description, your goal is to produce a comprehensive market validation report.\",\n",
    "    instructions=[\n",
    "        \"First, ask the Market Researcher to search for and collect data on existing platforms, features, and pricing.\",\n",
    "        \"The researcher should first use Tavily to find relevant competitor websites, then use Firecrawl to scrape detailed information.\",\n",
    "        \"Then, ask the Market Analyzer to analyze the data and identify trends, gaps, and opportunities.\",\n",
    "        \"Finally, ask the Report Generator to create a comprehensive market validation report.\",\n",
    "        \"Ensure the final report includes competitor analysis, feature comparisons, pricing plans, and recommended USPs.\",\n",
    "    ],\n",
    "    add_datetime_to_instructions=True,\n",
    "    add_member_tools_to_system_message=True,\n",
    "    enable_agentic_context=True,  # Allow the team to maintain a shared context\n",
    "    share_member_interactions=True,  # Share all member responses with subsequent member requests\n",
    "    show_members_responses=True,\n",
    "    show_tool_calls=True,\n",
    "    markdown=True,\n",
    ")\n",
    "\n",
    "def save_markdown(markdown_content, base_filename):\n",
    "    \"\"\"\n",
    "    Save markdown content to a file with a timestamp in the filename.\n",
    "    \n",
    "    Args:\n",
    "        markdown_content (str): The markdown content to save\n",
    "        base_filename (str): The base name of the file without extension\n",
    "    \"\"\"\n",
    "    timestamp = datetime.datetime.now().strftime(\"%Y%m%d_%H%M%S\")\n",
    "    filename = f\"{base_filename}_{timestamp}.md\"\n",
    "    \n",
    "    with open(filename, 'w', encoding='utf-8') as f:\n",
    "        f.write(markdown_content)\n",
    "    \n",
    "    return filename\n"
   ]
  },
  {
   "cell_type": "code",
   "execution_count": 2,
   "id": "e265098d",
   "metadata": {},
   "outputs": [
    {
     "data": {
      "text/html": [
       "<pre style=\"white-space:pre;overflow-x:auto;line-height:normal;font-family:Menlo,'DejaVu Sans Mono',consolas,'Courier New',monospace\"><span style=\"color: #800000; text-decoration-color: #800000; font-weight: bold\">ERROR   </span> Error from Gemini API: <span style=\"color: #008080; text-decoration-color: #008080; font-weight: bold\">503</span> UNAVAILABLE. <span style=\"font-weight: bold\">{</span><span style=\"color: #008000; text-decoration-color: #008000\">'error'</span>: <span style=\"font-weight: bold\">{</span><span style=\"color: #008000; text-decoration-color: #008000\">'code'</span>: <span style=\"color: #008080; text-decoration-color: #008080; font-weight: bold\">503</span>, <span style=\"color: #008000; text-decoration-color: #008000\">'message'</span>: <span style=\"color: #008000; text-decoration-color: #008000\">'The service is currently </span>     \n",
       "         <span style=\"color: #008000; text-decoration-color: #008000\">unavailable.'</span>, <span style=\"color: #008000; text-decoration-color: #008000\">'status'</span>: <span style=\"color: #008000; text-decoration-color: #008000\">'UNAVAILABLE'</span><span style=\"font-weight: bold\">}}</span>                                                                  \n",
       "</pre>\n"
      ],
      "text/plain": [
       "\u001b[1;31mERROR   \u001b[0m Error from Gemini API: \u001b[1;36m503\u001b[0m UNAVAILABLE. \u001b[1m{\u001b[0m\u001b[32m'error'\u001b[0m: \u001b[1m{\u001b[0m\u001b[32m'code'\u001b[0m: \u001b[1;36m503\u001b[0m, \u001b[32m'message'\u001b[0m: \u001b[32m'The service is currently \u001b[0m     \n",
       "         \u001b[32munavailable.'\u001b[0m, \u001b[32m'status'\u001b[0m: \u001b[32m'UNAVAILABLE'\u001b[0m\u001b[1m}\u001b[0m\u001b[1m}\u001b[0m                                                                  \n"
      ]
     },
     "metadata": {},
     "output_type": "display_data"
    },
    {
     "data": {
      "text/html": [
       "<pre style=\"white-space:pre;overflow-x:auto;line-height:normal;font-family:Menlo,'DejaVu Sans Mono',consolas,'Courier New',monospace\"><span style=\"color: #808000; text-decoration-color: #808000\">WARNING </span> Attempt <span style=\"color: #008080; text-decoration-color: #008080; font-weight: bold\">1</span>/<span style=\"color: #008080; text-decoration-color: #008080; font-weight: bold\">1</span> failed: <span style=\"font-weight: bold\">&lt;</span><span style=\"color: #ff00ff; text-decoration-color: #ff00ff; font-weight: bold\">Response</span><span style=\"color: #000000; text-decoration-color: #000000\"> </span><span style=\"color: #000000; text-decoration-color: #000000; font-weight: bold\">[</span><span style=\"color: #008080; text-decoration-color: #008080; font-weight: bold\">503</span><span style=\"color: #000000; text-decoration-color: #000000\"> Service Unavailable</span><span style=\"color: #000000; text-decoration-color: #000000; font-weight: bold\">]</span><span style=\"font-weight: bold\">&gt;</span>                                                  \n",
       "</pre>\n"
      ],
      "text/plain": [
       "\u001b[33mWARNING \u001b[0m Attempt \u001b[1;36m1\u001b[0m/\u001b[1;36m1\u001b[0m failed: \u001b[1m<\u001b[0m\u001b[1;95mResponse\u001b[0m\u001b[39m \u001b[0m\u001b[1;39m[\u001b[0m\u001b[1;36m503\u001b[0m\u001b[39m Service Unavailable\u001b[0m\u001b[1;39m]\u001b[0m\u001b[1m>\u001b[0m                                                  \n"
      ]
     },
     "metadata": {},
     "output_type": "display_data"
    },
    {
     "data": {
      "text/html": [
       "<pre style=\"white-space:pre;overflow-x:auto;line-height:normal;font-family:Menlo,'DejaVu Sans Mono',consolas,'Courier New',monospace\"><span style=\"color: #800000; text-decoration-color: #800000; font-weight: bold\">ERROR   </span> Failed after <span style=\"color: #008080; text-decoration-color: #008080; font-weight: bold\">1</span> attempts. Last error using <span style=\"color: #800080; text-decoration-color: #800080; font-weight: bold\">Gemini</span><span style=\"font-weight: bold\">(</span>gemini-<span style=\"color: #008080; text-decoration-color: #008080; font-weight: bold\">2.5</span>-flash-preview-<span style=\"color: #008080; text-decoration-color: #008080; font-weight: bold\">04</span>-<span style=\"color: #008080; text-decoration-color: #008080; font-weight: bold\">17</span><span style=\"font-weight: bold\">)</span>                          \n",
       "</pre>\n"
      ],
      "text/plain": [
       "\u001b[1;31mERROR   \u001b[0m Failed after \u001b[1;36m1\u001b[0m attempts. Last error using \u001b[1;35mGemini\u001b[0m\u001b[1m(\u001b[0mgemini-\u001b[1;36m2.5\u001b[0m-flash-preview-\u001b[1;36m04\u001b[0m-\u001b[1;36m17\u001b[0m\u001b[1m)\u001b[0m                          \n"
      ]
     },
     "metadata": {},
     "output_type": "display_data"
    },
    {
     "data": {
      "text/html": [
       "<pre style=\"white-space:pre;overflow-x:auto;line-height:normal;font-family:Menlo,'DejaVu Sans Mono',consolas,'Courier New',monospace\"><span style=\"color: #808000; text-decoration-color: #808000\">WARNING </span> Attempt <span style=\"color: #008080; text-decoration-color: #008080; font-weight: bold\">1</span>/<span style=\"color: #008080; text-decoration-color: #008080; font-weight: bold\">4</span> failed: <span style=\"font-weight: bold\">&lt;</span><span style=\"color: #ff00ff; text-decoration-color: #ff00ff; font-weight: bold\">Response</span><span style=\"color: #000000; text-decoration-color: #000000\"> </span><span style=\"color: #000000; text-decoration-color: #000000; font-weight: bold\">[</span><span style=\"color: #008080; text-decoration-color: #008080; font-weight: bold\">503</span><span style=\"color: #000000; text-decoration-color: #000000\"> Service Unavailable</span><span style=\"color: #000000; text-decoration-color: #000000; font-weight: bold\">]</span><span style=\"font-weight: bold\">&gt;</span>                                                  \n",
       "</pre>\n"
      ],
      "text/plain": [
       "\u001b[33mWARNING \u001b[0m Attempt \u001b[1;36m1\u001b[0m/\u001b[1;36m4\u001b[0m failed: \u001b[1m<\u001b[0m\u001b[1;95mResponse\u001b[0m\u001b[39m \u001b[0m\u001b[1;39m[\u001b[0m\u001b[1;36m503\u001b[0m\u001b[39m Service Unavailable\u001b[0m\u001b[1;39m]\u001b[0m\u001b[1m>\u001b[0m                                                  \n"
      ]
     },
     "metadata": {},
     "output_type": "display_data"
    },
    {
     "data": {
      "text/html": [
       "<pre style=\"white-space:pre;overflow-x:auto;line-height:normal;font-family:Menlo,'DejaVu Sans Mono',consolas,'Courier New',monospace\"><span style=\"color: #800000; text-decoration-color: #800000; font-weight: bold\">ERROR   </span> Error from Gemini API: <span style=\"color: #008080; text-decoration-color: #008080; font-weight: bold\">503</span> UNAVAILABLE. <span style=\"font-weight: bold\">{</span><span style=\"color: #008000; text-decoration-color: #008000\">'error'</span>: <span style=\"font-weight: bold\">{</span><span style=\"color: #008000; text-decoration-color: #008000\">'code'</span>: <span style=\"color: #008080; text-decoration-color: #008080; font-weight: bold\">503</span>, <span style=\"color: #008000; text-decoration-color: #008000\">'message'</span>: <span style=\"color: #008000; text-decoration-color: #008000\">'The service is currently </span>     \n",
       "         <span style=\"color: #008000; text-decoration-color: #008000\">unavailable.'</span>, <span style=\"color: #008000; text-decoration-color: #008000\">'status'</span>: <span style=\"color: #008000; text-decoration-color: #008000\">'UNAVAILABLE'</span><span style=\"font-weight: bold\">}}</span>                                                                  \n",
       "</pre>\n"
      ],
      "text/plain": [
       "\u001b[1;31mERROR   \u001b[0m Error from Gemini API: \u001b[1;36m503\u001b[0m UNAVAILABLE. \u001b[1m{\u001b[0m\u001b[32m'error'\u001b[0m: \u001b[1m{\u001b[0m\u001b[32m'code'\u001b[0m: \u001b[1;36m503\u001b[0m, \u001b[32m'message'\u001b[0m: \u001b[32m'The service is currently \u001b[0m     \n",
       "         \u001b[32munavailable.'\u001b[0m, \u001b[32m'status'\u001b[0m: \u001b[32m'UNAVAILABLE'\u001b[0m\u001b[1m}\u001b[0m\u001b[1m}\u001b[0m                                                                  \n"
      ]
     },
     "metadata": {},
     "output_type": "display_data"
    },
    {
     "data": {
      "text/html": [
       "<pre style=\"white-space:pre;overflow-x:auto;line-height:normal;font-family:Menlo,'DejaVu Sans Mono',consolas,'Courier New',monospace\"><span style=\"color: #808000; text-decoration-color: #808000\">WARNING </span> Attempt <span style=\"color: #008080; text-decoration-color: #008080; font-weight: bold\">2</span>/<span style=\"color: #008080; text-decoration-color: #008080; font-weight: bold\">4</span> failed: <span style=\"font-weight: bold\">&lt;</span><span style=\"color: #ff00ff; text-decoration-color: #ff00ff; font-weight: bold\">Response</span><span style=\"color: #000000; text-decoration-color: #000000\"> </span><span style=\"color: #000000; text-decoration-color: #000000; font-weight: bold\">[</span><span style=\"color: #008080; text-decoration-color: #008080; font-weight: bold\">503</span><span style=\"color: #000000; text-decoration-color: #000000\"> Service Unavailable</span><span style=\"color: #000000; text-decoration-color: #000000; font-weight: bold\">]</span><span style=\"font-weight: bold\">&gt;</span>                                                  \n",
       "</pre>\n"
      ],
      "text/plain": [
       "\u001b[33mWARNING \u001b[0m Attempt \u001b[1;36m2\u001b[0m/\u001b[1;36m4\u001b[0m failed: \u001b[1m<\u001b[0m\u001b[1;95mResponse\u001b[0m\u001b[39m \u001b[0m\u001b[1;39m[\u001b[0m\u001b[1;36m503\u001b[0m\u001b[39m Service Unavailable\u001b[0m\u001b[1;39m]\u001b[0m\u001b[1m>\u001b[0m                                                  \n"
      ]
     },
     "metadata": {},
     "output_type": "display_data"
    },
    {
     "data": {
      "text/html": [
       "<pre style=\"white-space:pre;overflow-x:auto;line-height:normal;font-family:Menlo,'DejaVu Sans Mono',consolas,'Courier New',monospace\"><span style=\"color: #800000; text-decoration-color: #800000; font-weight: bold\">ERROR   </span> Error from Gemini API: <span style=\"color: #008080; text-decoration-color: #008080; font-weight: bold\">503</span> UNAVAILABLE. <span style=\"font-weight: bold\">{</span><span style=\"color: #008000; text-decoration-color: #008000\">'error'</span>: <span style=\"font-weight: bold\">{</span><span style=\"color: #008000; text-decoration-color: #008000\">'code'</span>: <span style=\"color: #008080; text-decoration-color: #008080; font-weight: bold\">503</span>, <span style=\"color: #008000; text-decoration-color: #008000\">'message'</span>: <span style=\"color: #008000; text-decoration-color: #008000\">'The service is currently </span>     \n",
       "         <span style=\"color: #008000; text-decoration-color: #008000\">unavailable.'</span>, <span style=\"color: #008000; text-decoration-color: #008000\">'status'</span>: <span style=\"color: #008000; text-decoration-color: #008000\">'UNAVAILABLE'</span><span style=\"font-weight: bold\">}}</span>                                                                  \n",
       "</pre>\n"
      ],
      "text/plain": [
       "\u001b[1;31mERROR   \u001b[0m Error from Gemini API: \u001b[1;36m503\u001b[0m UNAVAILABLE. \u001b[1m{\u001b[0m\u001b[32m'error'\u001b[0m: \u001b[1m{\u001b[0m\u001b[32m'code'\u001b[0m: \u001b[1;36m503\u001b[0m, \u001b[32m'message'\u001b[0m: \u001b[32m'The service is currently \u001b[0m     \n",
       "         \u001b[32munavailable.'\u001b[0m, \u001b[32m'status'\u001b[0m: \u001b[32m'UNAVAILABLE'\u001b[0m\u001b[1m}\u001b[0m\u001b[1m}\u001b[0m                                                                  \n"
      ]
     },
     "metadata": {},
     "output_type": "display_data"
    },
    {
     "data": {
      "text/html": [
       "<pre style=\"white-space:pre;overflow-x:auto;line-height:normal;font-family:Menlo,'DejaVu Sans Mono',consolas,'Courier New',monospace\"><span style=\"color: #808000; text-decoration-color: #808000\">WARNING </span> Attempt <span style=\"color: #008080; text-decoration-color: #008080; font-weight: bold\">3</span>/<span style=\"color: #008080; text-decoration-color: #008080; font-weight: bold\">4</span> failed: <span style=\"font-weight: bold\">&lt;</span><span style=\"color: #ff00ff; text-decoration-color: #ff00ff; font-weight: bold\">Response</span><span style=\"color: #000000; text-decoration-color: #000000\"> </span><span style=\"color: #000000; text-decoration-color: #000000; font-weight: bold\">[</span><span style=\"color: #008080; text-decoration-color: #008080; font-weight: bold\">503</span><span style=\"color: #000000; text-decoration-color: #000000\"> Service Unavailable</span><span style=\"color: #000000; text-decoration-color: #000000; font-weight: bold\">]</span><span style=\"font-weight: bold\">&gt;</span>                                                  \n",
       "</pre>\n"
      ],
      "text/plain": [
       "\u001b[33mWARNING \u001b[0m Attempt \u001b[1;36m3\u001b[0m/\u001b[1;36m4\u001b[0m failed: \u001b[1m<\u001b[0m\u001b[1;95mResponse\u001b[0m\u001b[39m \u001b[0m\u001b[1;39m[\u001b[0m\u001b[1;36m503\u001b[0m\u001b[39m Service Unavailable\u001b[0m\u001b[1;39m]\u001b[0m\u001b[1m>\u001b[0m                                                  \n"
      ]
     },
     "metadata": {},
     "output_type": "display_data"
    },
    {
     "data": {
      "text/html": [
       "<pre style=\"white-space:pre;overflow-x:auto;line-height:normal;font-family:Menlo,'DejaVu Sans Mono',consolas,'Courier New',monospace\"><span style=\"color: #800000; text-decoration-color: #800000; font-weight: bold\">ERROR   </span> Error from Gemini API: <span style=\"color: #008080; text-decoration-color: #008080; font-weight: bold\">503</span> UNAVAILABLE. <span style=\"font-weight: bold\">{</span><span style=\"color: #008000; text-decoration-color: #008000\">'error'</span>: <span style=\"font-weight: bold\">{</span><span style=\"color: #008000; text-decoration-color: #008000\">'code'</span>: <span style=\"color: #008080; text-decoration-color: #008080; font-weight: bold\">503</span>, <span style=\"color: #008000; text-decoration-color: #008000\">'message'</span>: <span style=\"color: #008000; text-decoration-color: #008000\">'The service is currently </span>     \n",
       "         <span style=\"color: #008000; text-decoration-color: #008000\">unavailable.'</span>, <span style=\"color: #008000; text-decoration-color: #008000\">'status'</span>: <span style=\"color: #008000; text-decoration-color: #008000\">'UNAVAILABLE'</span><span style=\"font-weight: bold\">}}</span>                                                                  \n",
       "</pre>\n"
      ],
      "text/plain": [
       "\u001b[1;31mERROR   \u001b[0m Error from Gemini API: \u001b[1;36m503\u001b[0m UNAVAILABLE. \u001b[1m{\u001b[0m\u001b[32m'error'\u001b[0m: \u001b[1m{\u001b[0m\u001b[32m'code'\u001b[0m: \u001b[1;36m503\u001b[0m, \u001b[32m'message'\u001b[0m: \u001b[32m'The service is currently \u001b[0m     \n",
       "         \u001b[32munavailable.'\u001b[0m, \u001b[32m'status'\u001b[0m: \u001b[32m'UNAVAILABLE'\u001b[0m\u001b[1m}\u001b[0m\u001b[1m}\u001b[0m                                                                  \n"
      ]
     },
     "metadata": {},
     "output_type": "display_data"
    },
    {
     "data": {
      "text/html": [
       "<pre style=\"white-space:pre;overflow-x:auto;line-height:normal;font-family:Menlo,'DejaVu Sans Mono',consolas,'Courier New',monospace\"><span style=\"color: #808000; text-decoration-color: #808000\">WARNING </span> Attempt <span style=\"color: #008080; text-decoration-color: #008080; font-weight: bold\">4</span>/<span style=\"color: #008080; text-decoration-color: #008080; font-weight: bold\">4</span> failed: <span style=\"font-weight: bold\">&lt;</span><span style=\"color: #ff00ff; text-decoration-color: #ff00ff; font-weight: bold\">Response</span><span style=\"color: #000000; text-decoration-color: #000000\"> </span><span style=\"color: #000000; text-decoration-color: #000000; font-weight: bold\">[</span><span style=\"color: #008080; text-decoration-color: #008080; font-weight: bold\">503</span><span style=\"color: #000000; text-decoration-color: #000000\"> Service Unavailable</span><span style=\"color: #000000; text-decoration-color: #000000; font-weight: bold\">]</span><span style=\"font-weight: bold\">&gt;</span>                                                  \n",
       "</pre>\n"
      ],
      "text/plain": [
       "\u001b[33mWARNING \u001b[0m Attempt \u001b[1;36m4\u001b[0m/\u001b[1;36m4\u001b[0m failed: \u001b[1m<\u001b[0m\u001b[1;95mResponse\u001b[0m\u001b[39m \u001b[0m\u001b[1;39m[\u001b[0m\u001b[1;36m503\u001b[0m\u001b[39m Service Unavailable\u001b[0m\u001b[1;39m]\u001b[0m\u001b[1m>\u001b[0m                                                  \n"
      ]
     },
     "metadata": {},
     "output_type": "display_data"
    },
    {
     "data": {
      "text/html": [
       "<pre style=\"white-space:pre;overflow-x:auto;line-height:normal;font-family:Menlo,'DejaVu Sans Mono',consolas,'Courier New',monospace\"><span style=\"color: #800000; text-decoration-color: #800000; font-weight: bold\">ERROR   </span> Failed after <span style=\"color: #008080; text-decoration-color: #008080; font-weight: bold\">4</span> attempts. Last error using <span style=\"color: #800080; text-decoration-color: #800080; font-weight: bold\">Gemini</span><span style=\"font-weight: bold\">(</span>gemini-<span style=\"color: #008080; text-decoration-color: #008080; font-weight: bold\">2.5</span>-flash-preview-<span style=\"color: #008080; text-decoration-color: #008080; font-weight: bold\">04</span>-<span style=\"color: #008080; text-decoration-color: #008080; font-weight: bold\">17</span><span style=\"font-weight: bold\">)</span>                          \n",
       "</pre>\n"
      ],
      "text/plain": [
       "\u001b[1;31mERROR   \u001b[0m Failed after \u001b[1;36m4\u001b[0m attempts. Last error using \u001b[1;35mGemini\u001b[0m\u001b[1m(\u001b[0mgemini-\u001b[1;36m2.5\u001b[0m-flash-preview-\u001b[1;36m04\u001b[0m-\u001b[1;36m17\u001b[0m\u001b[1m)\u001b[0m                          \n"
      ]
     },
     "metadata": {},
     "output_type": "display_data"
    },
    {
     "ename": "ModelProviderError",
     "evalue": "<Response [503 Service Unavailable]>",
     "output_type": "error",
     "traceback": [
      "\u001b[1;31m---------------------------------------------------------------------------\u001b[0m",
      "\u001b[1;31mServerError\u001b[0m                               Traceback (most recent call last)",
      "File \u001b[1;32mc:\\Con-Main\\Maen\\ai\\Hackaton\\taskflow-backend\\.venv\\lib\\site-packages\\agno\\models\\google\\gemini.py:233\u001b[0m, in \u001b[0;36mGemini.invoke\u001b[1;34m(self, messages)\u001b[0m\n\u001b[0;32m    232\u001b[0m \u001b[38;5;28;01mtry\u001b[39;00m:\n\u001b[1;32m--> 233\u001b[0m     \u001b[38;5;28;01mreturn\u001b[39;00m \u001b[38;5;28mself\u001b[39m\u001b[38;5;241m.\u001b[39mget_client()\u001b[38;5;241m.\u001b[39mmodels\u001b[38;5;241m.\u001b[39mgenerate_content(\n\u001b[0;32m    234\u001b[0m         model\u001b[38;5;241m=\u001b[39m\u001b[38;5;28mself\u001b[39m\u001b[38;5;241m.\u001b[39mid,\n\u001b[0;32m    235\u001b[0m         contents\u001b[38;5;241m=\u001b[39mformatted_messages,\n\u001b[0;32m    236\u001b[0m         \u001b[38;5;241m*\u001b[39m\u001b[38;5;241m*\u001b[39mrequest_kwargs,\n\u001b[0;32m    237\u001b[0m     )\n\u001b[0;32m    238\u001b[0m \u001b[38;5;28;01mexcept\u001b[39;00m (ClientError, ServerError) \u001b[38;5;28;01mas\u001b[39;00m e:\n",
      "File \u001b[1;32mc:\\Con-Main\\Maen\\ai\\Hackaton\\taskflow-backend\\.venv\\lib\\site-packages\\google\\genai\\models.py:5049\u001b[0m, in \u001b[0;36mModels.generate_content\u001b[1;34m(self, model, contents, config)\u001b[0m\n\u001b[0;32m   5048\u001b[0m i \u001b[38;5;241m+\u001b[39m\u001b[38;5;241m=\u001b[39m \u001b[38;5;241m1\u001b[39m\n\u001b[1;32m-> 5049\u001b[0m response \u001b[38;5;241m=\u001b[39m \u001b[38;5;28;43mself\u001b[39;49m\u001b[38;5;241;43m.\u001b[39;49m\u001b[43m_generate_content\u001b[49m\u001b[43m(\u001b[49m\n\u001b[0;32m   5050\u001b[0m \u001b[43m    \u001b[49m\u001b[43mmodel\u001b[49m\u001b[38;5;241;43m=\u001b[39;49m\u001b[43mmodel\u001b[49m\u001b[43m,\u001b[49m\u001b[43m \u001b[49m\u001b[43mcontents\u001b[49m\u001b[38;5;241;43m=\u001b[39;49m\u001b[43mcontents\u001b[49m\u001b[43m,\u001b[49m\u001b[43m \u001b[49m\u001b[43mconfig\u001b[49m\u001b[38;5;241;43m=\u001b[39;49m\u001b[43mconfig\u001b[49m\n\u001b[0;32m   5051\u001b[0m \u001b[43m\u001b[49m\u001b[43m)\u001b[49m\n\u001b[0;32m   5052\u001b[0m logger\u001b[38;5;241m.\u001b[39minfo(\u001b[38;5;124mf\u001b[39m\u001b[38;5;124m'\u001b[39m\u001b[38;5;124mAFC remote call \u001b[39m\u001b[38;5;132;01m{\u001b[39;00mi\u001b[38;5;132;01m}\u001b[39;00m\u001b[38;5;124m is done.\u001b[39m\u001b[38;5;124m'\u001b[39m)\n",
      "File \u001b[1;32mc:\\Con-Main\\Maen\\ai\\Hackaton\\taskflow-backend\\.venv\\lib\\site-packages\\google\\genai\\models.py:4025\u001b[0m, in \u001b[0;36mModels._generate_content\u001b[1;34m(self, model, contents, config)\u001b[0m\n\u001b[0;32m   4023\u001b[0m request_dict \u001b[38;5;241m=\u001b[39m _common\u001b[38;5;241m.\u001b[39mencode_unserializable_types(request_dict)\n\u001b[1;32m-> 4025\u001b[0m response_dict \u001b[38;5;241m=\u001b[39m \u001b[38;5;28;43mself\u001b[39;49m\u001b[38;5;241;43m.\u001b[39;49m\u001b[43m_api_client\u001b[49m\u001b[38;5;241;43m.\u001b[39;49m\u001b[43mrequest\u001b[49m\u001b[43m(\u001b[49m\n\u001b[0;32m   4026\u001b[0m \u001b[43m    \u001b[49m\u001b[38;5;124;43m'\u001b[39;49m\u001b[38;5;124;43mpost\u001b[39;49m\u001b[38;5;124;43m'\u001b[39;49m\u001b[43m,\u001b[49m\u001b[43m \u001b[49m\u001b[43mpath\u001b[49m\u001b[43m,\u001b[49m\u001b[43m \u001b[49m\u001b[43mrequest_dict\u001b[49m\u001b[43m,\u001b[49m\u001b[43m \u001b[49m\u001b[43mhttp_options\u001b[49m\n\u001b[0;32m   4027\u001b[0m \u001b[43m\u001b[49m\u001b[43m)\u001b[49m\n\u001b[0;32m   4029\u001b[0m \u001b[38;5;28;01mif\u001b[39;00m \u001b[38;5;28mself\u001b[39m\u001b[38;5;241m.\u001b[39m_api_client\u001b[38;5;241m.\u001b[39mvertexai:\n",
      "File \u001b[1;32mc:\\Con-Main\\Maen\\ai\\Hackaton\\taskflow-backend\\.venv\\lib\\site-packages\\google\\genai\\_api_client.py:751\u001b[0m, in \u001b[0;36mBaseApiClient.request\u001b[1;34m(self, http_method, path, request_dict, http_options)\u001b[0m\n\u001b[0;32m    748\u001b[0m http_request \u001b[38;5;241m=\u001b[39m \u001b[38;5;28mself\u001b[39m\u001b[38;5;241m.\u001b[39m_build_request(\n\u001b[0;32m    749\u001b[0m     http_method, path, request_dict, http_options\n\u001b[0;32m    750\u001b[0m )\n\u001b[1;32m--> 751\u001b[0m response \u001b[38;5;241m=\u001b[39m \u001b[38;5;28;43mself\u001b[39;49m\u001b[38;5;241;43m.\u001b[39;49m\u001b[43m_request\u001b[49m\u001b[43m(\u001b[49m\u001b[43mhttp_request\u001b[49m\u001b[43m,\u001b[49m\u001b[43m \u001b[49m\u001b[43mstream\u001b[49m\u001b[38;5;241;43m=\u001b[39;49m\u001b[38;5;28;43;01mFalse\u001b[39;49;00m\u001b[43m)\u001b[49m\n\u001b[0;32m    752\u001b[0m json_response \u001b[38;5;241m=\u001b[39m response\u001b[38;5;241m.\u001b[39mjson\n",
      "File \u001b[1;32mc:\\Con-Main\\Maen\\ai\\Hackaton\\taskflow-backend\\.venv\\lib\\site-packages\\google\\genai\\_api_client.py:680\u001b[0m, in \u001b[0;36mBaseApiClient._request\u001b[1;34m(self, http_request, stream)\u001b[0m\n\u001b[0;32m    673\u001b[0m response \u001b[38;5;241m=\u001b[39m \u001b[38;5;28mself\u001b[39m\u001b[38;5;241m.\u001b[39m_httpx_client\u001b[38;5;241m.\u001b[39mrequest(\n\u001b[0;32m    674\u001b[0m     method\u001b[38;5;241m=\u001b[39mhttp_request\u001b[38;5;241m.\u001b[39mmethod,\n\u001b[0;32m    675\u001b[0m     url\u001b[38;5;241m=\u001b[39mhttp_request\u001b[38;5;241m.\u001b[39murl,\n\u001b[1;32m   (...)\u001b[0m\n\u001b[0;32m    678\u001b[0m     timeout\u001b[38;5;241m=\u001b[39mhttp_request\u001b[38;5;241m.\u001b[39mtimeout,\n\u001b[0;32m    679\u001b[0m )\n\u001b[1;32m--> 680\u001b[0m \u001b[43merrors\u001b[49m\u001b[38;5;241;43m.\u001b[39;49m\u001b[43mAPIError\u001b[49m\u001b[38;5;241;43m.\u001b[39;49m\u001b[43mraise_for_response\u001b[49m\u001b[43m(\u001b[49m\u001b[43mresponse\u001b[49m\u001b[43m)\u001b[49m\n\u001b[0;32m    681\u001b[0m \u001b[38;5;28;01mreturn\u001b[39;00m HttpResponse(\n\u001b[0;32m    682\u001b[0m     response\u001b[38;5;241m.\u001b[39mheaders, response \u001b[38;5;28;01mif\u001b[39;00m stream \u001b[38;5;28;01melse\u001b[39;00m [response\u001b[38;5;241m.\u001b[39mtext]\n\u001b[0;32m    683\u001b[0m )\n",
      "File \u001b[1;32mc:\\Con-Main\\Maen\\ai\\Hackaton\\taskflow-backend\\.venv\\lib\\site-packages\\google\\genai\\errors.py:103\u001b[0m, in \u001b[0;36mAPIError.raise_for_response\u001b[1;34m(cls, response)\u001b[0m\n\u001b[0;32m    102\u001b[0m \u001b[38;5;28;01melif\u001b[39;00m \u001b[38;5;241m500\u001b[39m \u001b[38;5;241m<\u001b[39m\u001b[38;5;241m=\u001b[39m status_code \u001b[38;5;241m<\u001b[39m \u001b[38;5;241m600\u001b[39m:\n\u001b[1;32m--> 103\u001b[0m   \u001b[38;5;28;01mraise\u001b[39;00m ServerError(status_code, response_json, response)\n\u001b[0;32m    104\u001b[0m \u001b[38;5;28;01melse\u001b[39;00m:\n",
      "\u001b[1;31mServerError\u001b[0m: 503 UNAVAILABLE. {'error': {'code': 503, 'message': 'The service is currently unavailable.', 'status': 'UNAVAILABLE'}}",
      "\nThe above exception was the direct cause of the following exception:\n",
      "\u001b[1;31mModelProviderError\u001b[0m                        Traceback (most recent call last)",
      "Cell \u001b[1;32mIn[2], line 4\u001b[0m\n\u001b[0;32m      1\u001b[0m project_description \u001b[38;5;241m=\u001b[39m \u001b[38;5;124m\"\"\"\u001b[39m\n\u001b[0;32m      2\u001b[0m \u001b[38;5;124mSearch as a Service project, service that provide search results like marketplace product search.\u001b[39m\n\u001b[0;32m      3\u001b[0m \u001b[38;5;124m\"\"\"\u001b[39m\n\u001b[1;32m----> 4\u001b[0m markdown_report \u001b[38;5;241m=\u001b[39m \u001b[43mmarket_validation_team\u001b[49m\u001b[38;5;241;43m.\u001b[39;49m\u001b[43mrun\u001b[49m\u001b[43m(\u001b[49m\u001b[43mproject_description\u001b[49m\u001b[43m)\u001b[49m\n",
      "File \u001b[1;32mc:\\Con-Main\\Maen\\ai\\Hackaton\\taskflow-backend\\.venv\\lib\\site-packages\\agno\\team\\team.py:761\u001b[0m, in \u001b[0;36mTeam.run\u001b[1;34m(self, message, stream, stream_intermediate_steps, session_id, user_id, retries, audio, images, videos, files, **kwargs)\u001b[0m\n\u001b[0;32m    757\u001b[0m \u001b[38;5;28;01mif\u001b[39;00m last_exception \u001b[38;5;129;01mis\u001b[39;00m \u001b[38;5;129;01mnot\u001b[39;00m \u001b[38;5;28;01mNone\u001b[39;00m:\n\u001b[0;32m    758\u001b[0m     log_error(\n\u001b[0;32m    759\u001b[0m         \u001b[38;5;124mf\u001b[39m\u001b[38;5;124m\"\u001b[39m\u001b[38;5;124mFailed after \u001b[39m\u001b[38;5;132;01m{\u001b[39;00mnum_attempts\u001b[38;5;132;01m}\u001b[39;00m\u001b[38;5;124m attempts. Last error using \u001b[39m\u001b[38;5;132;01m{\u001b[39;00mlast_exception\u001b[38;5;241m.\u001b[39mmodel_name\u001b[38;5;132;01m}\u001b[39;00m\u001b[38;5;124m(\u001b[39m\u001b[38;5;132;01m{\u001b[39;00mlast_exception\u001b[38;5;241m.\u001b[39mmodel_id\u001b[38;5;132;01m}\u001b[39;00m\u001b[38;5;124m)\u001b[39m\u001b[38;5;124m\"\u001b[39m\n\u001b[0;32m    760\u001b[0m     )\n\u001b[1;32m--> 761\u001b[0m     \u001b[38;5;28;01mraise\u001b[39;00m last_exception\n\u001b[0;32m    762\u001b[0m \u001b[38;5;28;01melse\u001b[39;00m:\n\u001b[0;32m    763\u001b[0m     \u001b[38;5;28;01mraise\u001b[39;00m \u001b[38;5;167;01mException\u001b[39;00m(\u001b[38;5;124mf\u001b[39m\u001b[38;5;124m\"\u001b[39m\u001b[38;5;124mFailed after \u001b[39m\u001b[38;5;132;01m{\u001b[39;00mnum_attempts\u001b[38;5;132;01m}\u001b[39;00m\u001b[38;5;124m attempts.\u001b[39m\u001b[38;5;124m\"\u001b[39m)\n",
      "File \u001b[1;32mc:\\Con-Main\\Maen\\ai\\Hackaton\\taskflow-backend\\.venv\\lib\\site-packages\\agno\\team\\team.py:730\u001b[0m, in \u001b[0;36mTeam.run\u001b[1;34m(self, message, stream, stream_intermediate_steps, session_id, user_id, retries, audio, images, videos, files, **kwargs)\u001b[0m\n\u001b[0;32m    728\u001b[0m         \u001b[38;5;28;01mreturn\u001b[39;00m resp\n\u001b[0;32m    729\u001b[0m     \u001b[38;5;28;01melse\u001b[39;00m:\n\u001b[1;32m--> 730\u001b[0m         \u001b[38;5;28;43mself\u001b[39;49m\u001b[38;5;241;43m.\u001b[39;49m\u001b[43m_run\u001b[49m\u001b[43m(\u001b[49m\n\u001b[0;32m    731\u001b[0m \u001b[43m            \u001b[49m\u001b[43mrun_response\u001b[49m\u001b[38;5;241;43m=\u001b[39;49m\u001b[38;5;28;43mself\u001b[39;49m\u001b[38;5;241;43m.\u001b[39;49m\u001b[43mrun_response\u001b[49m\u001b[43m,\u001b[49m\n\u001b[0;32m    732\u001b[0m \u001b[43m            \u001b[49m\u001b[43mrun_messages\u001b[49m\u001b[38;5;241;43m=\u001b[39;49m\u001b[43mrun_messages\u001b[49m\u001b[43m,\u001b[49m\n\u001b[0;32m    733\u001b[0m \u001b[43m            \u001b[49m\u001b[43msession_id\u001b[49m\u001b[38;5;241;43m=\u001b[39;49m\u001b[43msession_id\u001b[49m\u001b[43m,\u001b[49m\n\u001b[0;32m    734\u001b[0m \u001b[43m            \u001b[49m\u001b[43muser_id\u001b[49m\u001b[38;5;241;43m=\u001b[39;49m\u001b[43muser_id\u001b[49m\u001b[43m,\u001b[49m\n\u001b[0;32m    735\u001b[0m \u001b[43m        \u001b[49m\u001b[43m)\u001b[49m\n\u001b[0;32m    737\u001b[0m         \u001b[38;5;28;01mreturn\u001b[39;00m \u001b[38;5;28mself\u001b[39m\u001b[38;5;241m.\u001b[39mrun_response\n\u001b[0;32m    739\u001b[0m \u001b[38;5;28;01mexcept\u001b[39;00m ModelProviderError \u001b[38;5;28;01mas\u001b[39;00m e:\n",
      "File \u001b[1;32mc:\\Con-Main\\Maen\\ai\\Hackaton\\taskflow-backend\\.venv\\lib\\site-packages\\agno\\team\\team.py:804\u001b[0m, in \u001b[0;36mTeam._run\u001b[1;34m(self, run_response, run_messages, session_id, user_id)\u001b[0m\n\u001b[0;32m    801\u001b[0m index_of_last_user_message \u001b[38;5;241m=\u001b[39m \u001b[38;5;28mlen\u001b[39m(run_messages\u001b[38;5;241m.\u001b[39mmessages)\n\u001b[0;32m    803\u001b[0m \u001b[38;5;66;03m# 2. Get the model response for the team leader\u001b[39;00m\n\u001b[1;32m--> 804\u001b[0m model_response \u001b[38;5;241m=\u001b[39m \u001b[38;5;28;43mself\u001b[39;49m\u001b[38;5;241;43m.\u001b[39;49m\u001b[43mmodel\u001b[49m\u001b[38;5;241;43m.\u001b[39;49m\u001b[43mresponse\u001b[49m\u001b[43m(\u001b[49m\u001b[43mmessages\u001b[49m\u001b[38;5;241;43m=\u001b[39;49m\u001b[43mrun_messages\u001b[49m\u001b[38;5;241;43m.\u001b[39;49m\u001b[43mmessages\u001b[49m\u001b[43m)\u001b[49m  \u001b[38;5;66;03m# type: ignore\u001b[39;00m\n\u001b[0;32m    806\u001b[0m \u001b[38;5;66;03m# 3. Update TeamRunResponse\u001b[39;00m\n\u001b[0;32m    807\u001b[0m \u001b[38;5;66;03m# Handle structured outputs\u001b[39;00m\n\u001b[0;32m    808\u001b[0m \u001b[38;5;28;01mif\u001b[39;00m (\u001b[38;5;28mself\u001b[39m\u001b[38;5;241m.\u001b[39mresponse_model \u001b[38;5;129;01mis\u001b[39;00m \u001b[38;5;129;01mnot\u001b[39;00m \u001b[38;5;28;01mNone\u001b[39;00m) \u001b[38;5;129;01mand\u001b[39;00m \u001b[38;5;129;01mnot\u001b[39;00m \u001b[38;5;28mself\u001b[39m\u001b[38;5;241m.\u001b[39muse_json_mode \u001b[38;5;129;01mand\u001b[39;00m (model_response\u001b[38;5;241m.\u001b[39mparsed \u001b[38;5;129;01mis\u001b[39;00m \u001b[38;5;129;01mnot\u001b[39;00m \u001b[38;5;28;01mNone\u001b[39;00m):\n\u001b[0;32m    809\u001b[0m     \u001b[38;5;66;03m# Update the run_response content with the structured output\u001b[39;00m\n",
      "File \u001b[1;32mc:\\Con-Main\\Maen\\ai\\Hackaton\\taskflow-backend\\.venv\\lib\\site-packages\\agno\\models\\base.py:187\u001b[0m, in \u001b[0;36mModel.response\u001b[1;34m(self, messages)\u001b[0m\n\u001b[0;32m    183\u001b[0m model_response \u001b[38;5;241m=\u001b[39m ModelResponse()\n\u001b[0;32m    185\u001b[0m \u001b[38;5;28;01mwhile\u001b[39;00m \u001b[38;5;28;01mTrue\u001b[39;00m:\n\u001b[0;32m    186\u001b[0m     \u001b[38;5;66;03m# Get response from model\u001b[39;00m\n\u001b[1;32m--> 187\u001b[0m     assistant_message, has_tool_calls \u001b[38;5;241m=\u001b[39m \u001b[38;5;28;43mself\u001b[39;49m\u001b[38;5;241;43m.\u001b[39;49m\u001b[43m_process_model_response\u001b[49m\u001b[43m(\u001b[49m\n\u001b[0;32m    188\u001b[0m \u001b[43m        \u001b[49m\u001b[43mmessages\u001b[49m\u001b[38;5;241;43m=\u001b[39;49m\u001b[43mmessages\u001b[49m\u001b[43m,\u001b[49m\n\u001b[0;32m    189\u001b[0m \u001b[43m        \u001b[49m\u001b[43mmodel_response\u001b[49m\u001b[38;5;241;43m=\u001b[39;49m\u001b[43mmodel_response\u001b[49m\u001b[43m,\u001b[49m\n\u001b[0;32m    190\u001b[0m \u001b[43m    \u001b[49m\u001b[43m)\u001b[49m\n\u001b[0;32m    192\u001b[0m     \u001b[38;5;66;03m# Handle tool calls if present\u001b[39;00m\n\u001b[0;32m    193\u001b[0m     \u001b[38;5;28;01mif\u001b[39;00m has_tool_calls:\n\u001b[0;32m    194\u001b[0m         \u001b[38;5;66;03m# Prepare function calls\u001b[39;00m\n",
      "File \u001b[1;32mc:\\Con-Main\\Maen\\ai\\Hackaton\\taskflow-backend\\.venv\\lib\\site-packages\\agno\\models\\base.py:323\u001b[0m, in \u001b[0;36mModel._process_model_response\u001b[1;34m(self, messages, model_response)\u001b[0m\n\u001b[0;32m    321\u001b[0m \u001b[38;5;66;03m# Generate response\u001b[39;00m\n\u001b[0;32m    322\u001b[0m assistant_message\u001b[38;5;241m.\u001b[39mmetrics\u001b[38;5;241m.\u001b[39mstart_timer()\n\u001b[1;32m--> 323\u001b[0m response \u001b[38;5;241m=\u001b[39m \u001b[38;5;28;43mself\u001b[39;49m\u001b[38;5;241;43m.\u001b[39;49m\u001b[43minvoke\u001b[49m\u001b[43m(\u001b[49m\u001b[43mmessages\u001b[49m\u001b[38;5;241;43m=\u001b[39;49m\u001b[43mmessages\u001b[49m\u001b[43m)\u001b[49m\n\u001b[0;32m    324\u001b[0m assistant_message\u001b[38;5;241m.\u001b[39mmetrics\u001b[38;5;241m.\u001b[39mstop_timer()\n\u001b[0;32m    326\u001b[0m \u001b[38;5;66;03m# Parse provider response\u001b[39;00m\n",
      "File \u001b[1;32mc:\\Con-Main\\Maen\\ai\\Hackaton\\taskflow-backend\\.venv\\lib\\site-packages\\agno\\models\\google\\gemini.py:240\u001b[0m, in \u001b[0;36mGemini.invoke\u001b[1;34m(self, messages)\u001b[0m\n\u001b[0;32m    238\u001b[0m \u001b[38;5;28;01mexcept\u001b[39;00m (ClientError, ServerError) \u001b[38;5;28;01mas\u001b[39;00m e:\n\u001b[0;32m    239\u001b[0m     log_error(\u001b[38;5;124mf\u001b[39m\u001b[38;5;124m\"\u001b[39m\u001b[38;5;124mError from Gemini API: \u001b[39m\u001b[38;5;132;01m{\u001b[39;00me\u001b[38;5;132;01m}\u001b[39;00m\u001b[38;5;124m\"\u001b[39m)\n\u001b[1;32m--> 240\u001b[0m     \u001b[38;5;28;01mraise\u001b[39;00m ModelProviderError(\n\u001b[0;32m    241\u001b[0m         message\u001b[38;5;241m=\u001b[39me\u001b[38;5;241m.\u001b[39mresponse, status_code\u001b[38;5;241m=\u001b[39me\u001b[38;5;241m.\u001b[39mcode, model_name\u001b[38;5;241m=\u001b[39m\u001b[38;5;28mself\u001b[39m\u001b[38;5;241m.\u001b[39mname, model_id\u001b[38;5;241m=\u001b[39m\u001b[38;5;28mself\u001b[39m\u001b[38;5;241m.\u001b[39mid\n\u001b[0;32m    242\u001b[0m     ) \u001b[38;5;28;01mfrom\u001b[39;00m\u001b[38;5;250m \u001b[39m\u001b[38;5;21;01me\u001b[39;00m\n\u001b[0;32m    243\u001b[0m \u001b[38;5;28;01mexcept\u001b[39;00m \u001b[38;5;167;01mException\u001b[39;00m \u001b[38;5;28;01mas\u001b[39;00m e:\n\u001b[0;32m    244\u001b[0m     log_error(\u001b[38;5;124mf\u001b[39m\u001b[38;5;124m\"\u001b[39m\u001b[38;5;124mUnknown error from Gemini API: \u001b[39m\u001b[38;5;132;01m{\u001b[39;00me\u001b[38;5;132;01m}\u001b[39;00m\u001b[38;5;124m\"\u001b[39m)\n",
      "\u001b[1;31mModelProviderError\u001b[0m: <Response [503 Service Unavailable]>"
     ]
    }
   ],
   "source": [
    "project_description = \"\"\"\n",
    "Search as a Service project, service that provide search results like marketplace product search.\n",
    "\"\"\"\n",
    "markdown_report = market_validation_team.run(project_description)"
   ]
  },
  {
   "cell_type": "code",
   "execution_count": 3,
   "id": "0a39c777",
   "metadata": {},
   "outputs": [
    {
     "data": {
      "text/plain": [
       "'Okay, I understand the project is about a \"Search as a Service\" specifically focused on marketplace product search.\\n\\nMy first step is to gather data on existing platforms, their features, and pricing. I will assign this task to the Market Researcher.\\n\\nOkay, I understand. It seems there might have been an issue with a function call after the market analysis was completed.\\n\\nHowever, the Market Analyzer has successfully provided the analysis of the competitor data, identifying trends, gaps, and opportunities, along with recommended USPs.\\n\\nNow, I will proceed to the next step as per our instructions and transfer the task to the Report Generator to compile the final market validation report.\\n\\nFirst, I will update the shared context to include the market analysis results.\\nI understand that there seems to be an issue with executing the function call to transfer the task to the Report Generator.\\n\\nAs I mentioned, the next step in our process is to have the Report Generator agent compile the comprehensive market validation report based on the competitor data collected by the Market Researcher and the analysis performed by the Market Analyzer.\\n\\nThis report is intended to include:\\n*   An executive summary.\\n*   Detailed competitor analysis (covering features, pricing models, and target markets for Algolia, Elastic, Luigi\\'s Box, Doofinder, Searchspring, and commercetools).\\n*   A comparison of key features relevant to marketplace search.\\n*   An analysis of pricing strategies observed in the market.\\n*   Identification of market trends, existing gaps, and potential opportunities.\\n*   Recommended Unique Selling Propositions (USPs) for a new service.\\n*   The report would be presented in Markdown format.\\n\\nI have the necessary information from the previous steps to create this report. However, I am currently unable to initiate the task for the Report Generator due to the function call issue you are experiencing.\\n\\nIf you have control over the execution environment or tool calls, please ensure they are functioning correctly so I can proceed with generating the final report.'"
      ]
     },
     "execution_count": 3,
     "metadata": {},
     "output_type": "execute_result"
    }
   ],
   "source": [
    "markdown_report.content"
   ]
  },
  {
   "cell_type": "code",
   "execution_count": 4,
   "id": "e40d54d4",
   "metadata": {},
   "outputs": [
    {
     "data": {
      "text/plain": [
       "'./result/market_validation_report_20250509_091438.md'"
      ]
     },
     "execution_count": 4,
     "metadata": {},
     "output_type": "execute_result"
    }
   ],
   "source": [
    "save_markdown(markdown_report.content, \"./result/market_validation_report\")"
   ]
  }
 ],
 "metadata": {
  "kernelspec": {
   "display_name": ".venv",
   "language": "python",
   "name": "python3"
  },
  "language_info": {
   "codemirror_mode": {
    "name": "ipython",
    "version": 3
   },
   "file_extension": ".py",
   "mimetype": "text/x-python",
   "name": "python",
   "nbconvert_exporter": "python",
   "pygments_lexer": "ipython3",
   "version": "3.10.6"
  }
 },
 "nbformat": 4,
 "nbformat_minor": 5
}
